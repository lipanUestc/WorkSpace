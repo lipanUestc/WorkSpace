{
 "cells": [
  {
   "cell_type": "markdown",
   "metadata": {},
   "source": [
    "问题描述：梯度下降求0-100内多项式极值"
   ]
  },
  {
   "cell_type": "code",
   "execution_count": 15,
   "metadata": {},
   "outputs": [],
   "source": [
    "import tensorflow as tf\n",
    "import numpy as np\n",
    "\n",
    "\n",
    "def ExtremeValue(a,b,c,d):\n",
    "    x=tf.Variable(tf.constant(100,dtype=np.float32))\n",
    "\n",
    "    y=a*tf.pow(x,3) + b*tf.square(x) + c*x + d\n",
    "\n",
    "    train=tf.train.GradientDescentOptimizer(0.001).minimize(y)\n",
    "\n",
    "    sess=tf.Session()\n",
    "    sess.run(tf.global_variables_initializer())\n",
    "\n",
    "    for i in range(10000):\n",
    "        sess.run(train)\n",
    "        if i%1000==0:\n",
    "            if sess.run(x)<=0:\n",
    "                return 0,sess.run(y,feed_dict={x:0})\n",
    "    \n",
    "    return sess.run(x),sess.run(y)"
   ]
  },
  {
   "cell_type": "markdown",
   "metadata": {},
   "source": [
    "\n",
    "\n",
    "输入多项式为：y=(x-2)(x-6)(x-9)，极小值点x应该在6-9之间，验证正确"
   ]
  },
  {
   "cell_type": "code",
   "execution_count": 10,
   "metadata": {},
   "outputs": [
    {
     "name": "stdout",
     "output_type": "stream",
     "text": [
      "Expression: y=x^3-17x^2+84x-108  x_final: 7.694273  y_final: -12.597229\n"
     ]
    }
   ],
   "source": [
    "x,y=ExtremeValue(1,-17,84,-108)\n",
    "print(\"Expression: y=x^3-17x^2+84x-108  x_final:\",x,\" y_final:\",y)"
   ]
  },
  {
   "cell_type": "markdown",
   "metadata": {},
   "source": [
    "\n",
    "任意输入的多项式，需保证y=x(3x^2-124x+369)-1802中的3x^2-124x+369的 b^2-4ac>=0"
   ]
  },
  {
   "cell_type": "code",
   "execution_count": 13,
   "metadata": {},
   "outputs": [
    {
     "name": "stdout",
     "output_type": "stream",
     "text": [
      "Expression: y=x^3-118x^2+3639x-17802  x_final: 25.977255  y_final: -23304.057\n"
     ]
    }
   ],
   "source": [
    "x,y=ExtremeValue(3,-124,369,-1802)\n",
    "print(\"Expression: y=3x^3-124x^2+369x-1802  x_final:\",x,\" y_final:\",y)"
   ]
  },
  {
   "cell_type": "markdown",
   "metadata": {},
   "source": [
    "\n",
    "输入多项式为：y=(x+1)(x+2)(x+3),使得极小值点x为负数，验证返回极小值点为x=0"
   ]
  },
  {
   "cell_type": "code",
   "execution_count": 18,
   "metadata": {},
   "outputs": [
    {
     "name": "stdout",
     "output_type": "stream",
     "text": [
      "Expression: y=x^3+6x^2+11x+6  x_final: 0  y_final: 6.0\n"
     ]
    }
   ],
   "source": [
    "x,y=ExtremeValue(1,6,11,6)\n",
    "print(\"Expression: y=x^3+6x^2+11x+6  x_final:\",x,\" y_final:\",y)"
   ]
  }
 ],
 "metadata": {
  "kernelspec": {
   "display_name": "Python 3",
   "language": "python",
   "name": "python3"
  },
  "language_info": {
   "codemirror_mode": {
    "name": "ipython",
    "version": 3
   },
   "file_extension": ".py",
   "mimetype": "text/x-python",
   "name": "python",
   "nbconvert_exporter": "python",
   "pygments_lexer": "ipython3",
   "version": "3.5.6"
  }
 },
 "nbformat": 4,
 "nbformat_minor": 2
}
