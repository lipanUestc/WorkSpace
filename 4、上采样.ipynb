{
 "cells": [
  {
   "cell_type": "markdown",
   "metadata": {},
   "source": [
    "上采样：\n",
    "上采样的主要目的是放大原图像,从而可以显示在更高分辨率的显示设备上。\n",
    "图像放大几乎都是采用内插值方法，即在原有图像像素的基础上在像素点之间采用合适的插值算法插入新的元素。\n",
    "\n",
    "①最近邻插值法\n",
    "最近邻插值法是最简单的灰度值插值，就是令变换后像素的灰度值等于距它最近的输入像素的灰度值。\n",
    "最邻近元法计算量较小，但可能会造成插值生成的图像灰度上的不连续，在灰度变化的地方可能出现明显的人工痕迹。\n",
    "\n",
    "②线性插值法：\n",
    "就是已知两个点A（x1,y1）B(x2,y2)和点P(x,y)中的一个值如x，对另一个值y进行插值。\n",
    "这种方法就是假定两个点之间的像素变化规律满足线性关系，可以直接利用AB、BP斜率相等列式计算即可。\n",
    "\n",
    "③二次线性插值：\n",
    "就是在x和y方向上分别插值。先在x方向上插值得到两个新的点，这两个点的x值相等。再利用这两个点在y方向上插值即可。\n",
    "\n",
    "④双三次插值\n",
    "我等明天考完试再细看"
   ]
  }
 ],
 "metadata": {
  "kernelspec": {
   "display_name": "Python 3",
   "language": "python",
   "name": "python3"
  },
  "language_info": {
   "codemirror_mode": {
    "name": "ipython",
    "version": 3
   },
   "file_extension": ".py",
   "mimetype": "text/x-python",
   "name": "python",
   "nbconvert_exporter": "python",
   "pygments_lexer": "ipython3",
   "version": "3.5.6"
  }
 },
 "nbformat": 4,
 "nbformat_minor": 2
}
