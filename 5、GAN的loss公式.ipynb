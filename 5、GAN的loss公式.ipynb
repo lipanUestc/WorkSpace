{
 "cells": [
  {
   "cell_type": "markdown",
   "metadata": {},
   "source": [
    "GAN的loss公式进行计算时可写为如下形式（每个batch大小为m）：\n",
    "$$gloss=\\frac{1}{m}\\sum_{i=1}^{m}log(1-D(G(z^{(i)})))$$\n",
    "$$dloss=\\frac{1}{m}\\sum_{i=1}^{m}[logD(x^{(i)})+log(1-D(G(z^{(i)})))]$$\n",
    "\n",
    "GAN的loss公式进行说明时可写为如下形式（指明输入数据域）：\n",
    "$$gloss=min\\quad E_{z\\sim P_{z}(z)}[log(1-D(G(z)))]$$\n",
    "$$dloss=max\\quad E_{x\\sim P_{data}(x)}[log(D(x)]+E_{z\\sim P_{z}(z)}[log(1-D(G(z)))]$$"
   ]
  }
 ],
 "metadata": {
  "kernelspec": {
   "display_name": "Python 3",
   "language": "python",
   "name": "python3"
  },
  "language_info": {
   "codemirror_mode": {
    "name": "ipython",
    "version": 3
   },
   "file_extension": ".py",
   "mimetype": "text/x-python",
   "name": "python",
   "nbconvert_exporter": "python",
   "pygments_lexer": "ipython3",
   "version": "3.5.6"
  }
 },
 "nbformat": 4,
 "nbformat_minor": 2
}
