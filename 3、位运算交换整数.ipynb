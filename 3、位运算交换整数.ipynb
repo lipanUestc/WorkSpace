{
 "cells": [
  {
   "cell_type": "markdown",
   "metadata": {},
   "source": [
    "问题描述：利用位运算实现两个整数的交换\n",
    "\n",
    "实现原理：\n",
    "\n",
    "1、-----------------------------------------------------------------------------------------------------\n",
    "\n",
    "由异或的定义可知：若a^b=0110，即说明a和b的第2、3位不同，所以第一次a^b的值就记录了a、b哪些位不等的信息。\n",
    "将该值赋给a，这时a原来的值被覆盖。\n",
    "\n",
    "2、-----------------------------------------------------------------------------------------------------\n",
    "\n",
    "0^0=0 1^0=1  ===>  不管第一个数是0/1，只要去异或0，原数就保持不变\n",
    "\n",
    "0^1=1 1^1=0  ===>  不管第一个数是0/1，只要去异或1，原数就变为相反\n",
    "\n",
    "由①知，a、b的第2、3位不同，所以这时新赋值的a等于0110。\n",
    "又根据上述异或的性质可知，当b异或a时，等于第1、4位去异或0，保持不变；第2、3位去异或1，反过来，得到的数刚好是a。\n",
    "\n",
    "\n",
    "3、-----------------------------------------------------------------------------------------------------\n",
    "\n",
    "同②，这时b存放的是a的值，a存放的是两个数不等位的位置信息，所以再做一次异或就可以得到b的值，存放在a中。"
   ]
  },
  {
   "cell_type": "code",
   "execution_count": 3,
   "metadata": {},
   "outputs": [
    {
     "name": "stdout",
     "output_type": "stream",
     "text": [
      "Before:a=12,b=10\n",
      "After :a=10,b=12\n"
     ]
    }
   ],
   "source": [
    "a=12\n",
    "b=10\n",
    "\n",
    "print(\"Before:a=%d,b=%d\"%(a,b))\n",
    "\n",
    "a=a^b\n",
    "b=b^a\n",
    "a=a^b\n",
    "\n",
    "print(\"After :a=%d,b=%d\"%(a,b))"
   ]
  }
 ],
 "metadata": {
  "kernelspec": {
   "display_name": "Python 3",
   "language": "python",
   "name": "python3"
  },
  "language_info": {
   "codemirror_mode": {
    "name": "ipython",
    "version": 3
   },
   "file_extension": ".py",
   "mimetype": "text/x-python",
   "name": "python",
   "nbconvert_exporter": "python",
   "pygments_lexer": "ipython3",
   "version": "3.5.6"
  }
 },
 "nbformat": 4,
 "nbformat_minor": 2
}
